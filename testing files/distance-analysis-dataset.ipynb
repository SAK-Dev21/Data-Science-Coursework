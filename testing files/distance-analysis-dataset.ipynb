{
 "cells": [
  {
   "cell_type": "code",
   "execution_count": 2,
   "metadata": {},
   "outputs": [],
   "source": [
    "import dask.dataframe as dd\n",
    "from dask.distributed import Client, LocalCluster\n",
    "import time"
   ]
  },
  {
   "cell_type": "markdown",
   "metadata": {},
   "source": [
    "# Comparing processing time with 10 processors vs 20 processors"
   ]
  },
  {
   "cell_type": "code",
   "execution_count": 3,
   "metadata": {},
   "outputs": [
    {
     "name": "stderr",
     "output_type": "stream",
     "text": [
      "C:\\Users\\thema\\AppData\\Local\\Packages\\PythonSoftwareFoundation.Python.3.12_qbz5n2kfra8p0\\LocalCache\\local-packages\\Python312\\site-packages\\distributed\\node.py:187: UserWarning: Port 8787 is already in use.\n",
      "Perhaps you already have a cluster running?\n",
      "Hosting the HTTP server on port 64520 instead\n",
      "  warnings.warn(\n",
      "C:\\Program Files\\WindowsApps\\PythonSoftwareFoundation.Python.3.12_3.12.2544.0_x64__qbz5n2kfra8p0\\Lib\\contextlib.py:144: UserWarning: Creating scratch directories is taking a surprisingly long time. (5.19s) This is often due to running workers on a network file system. Consider specifying a local-directory to point workers to write scratch data to a local disk.\n",
      "  next(self.gen)\n"
     ]
    }
   ],
   "source": [
    "# Start cluster (10 workers by default)\n",
    "cluster = LocalCluster(10)\n",
    "client = Client(cluster)\n",
    "\n",
    "# Load dataset\n",
    "df = dd.read_csv(\"../datasets/cleaned-datasets/Trips_by_Distance-cleaned.csv\")\n"
   ]
  },
  {
   "cell_type": "markdown",
   "metadata": {},
   "source": [
    "### Print link to access dask dashboard"
   ]
  },
  {
   "cell_type": "code",
   "execution_count": 4,
   "metadata": {},
   "outputs": [
    {
     "name": "stdout",
     "output_type": "stream",
     "text": [
      "http://127.0.0.1:64520/status\n"
     ]
    }
   ],
   "source": [
    "print(client.dashboard_link)\n"
   ]
  },
  {
   "cell_type": "code",
   "execution_count": 5,
   "metadata": {},
   "outputs": [
    {
     "data": {
      "text/html": [
       "<div>\n",
       "<style scoped>\n",
       "    .dataframe tbody tr th:only-of-type {\n",
       "        vertical-align: middle;\n",
       "    }\n",
       "\n",
       "    .dataframe tbody tr th {\n",
       "        vertical-align: top;\n",
       "    }\n",
       "\n",
       "    .dataframe thead th {\n",
       "        text-align: right;\n",
       "    }\n",
       "</style>\n",
       "<table border=\"1\" class=\"dataframe\">\n",
       "  <thead>\n",
       "    <tr style=\"text-align: right;\">\n",
       "      <th></th>\n",
       "      <th>Level</th>\n",
       "      <th>Date</th>\n",
       "      <th>State FIPS</th>\n",
       "      <th>State Postal Code</th>\n",
       "      <th>County FIPS</th>\n",
       "      <th>County Name</th>\n",
       "      <th>Population Staying at Home</th>\n",
       "      <th>Population Not Staying at Home</th>\n",
       "      <th>Number of Trips</th>\n",
       "      <th>Number of Trips &lt;1</th>\n",
       "      <th>...</th>\n",
       "      <th>Number of Trips 5-10</th>\n",
       "      <th>Number of Trips 10-25</th>\n",
       "      <th>Number of Trips 25-50</th>\n",
       "      <th>Number of Trips 50-100</th>\n",
       "      <th>Number of Trips 100-250</th>\n",
       "      <th>Number of Trips 250-500</th>\n",
       "      <th>Number of Trips &gt;=500</th>\n",
       "      <th>Row ID</th>\n",
       "      <th>Week</th>\n",
       "      <th>Month</th>\n",
       "    </tr>\n",
       "  </thead>\n",
       "  <tbody>\n",
       "    <tr>\n",
       "      <th>0</th>\n",
       "      <td>County</td>\n",
       "      <td>2021-06-06</td>\n",
       "      <td>56.0</td>\n",
       "      <td>WY</td>\n",
       "      <td>56045.0</td>\n",
       "      <td>Weston County</td>\n",
       "      <td>1268</td>\n",
       "      <td>5659</td>\n",
       "      <td>22471</td>\n",
       "      <td>4160</td>\n",
       "      <td>...</td>\n",
       "      <td>1558</td>\n",
       "      <td>5723</td>\n",
       "      <td>2202</td>\n",
       "      <td>3930</td>\n",
       "      <td>1160</td>\n",
       "      <td>166</td>\n",
       "      <td>23</td>\n",
       "      <td>56-56045-20210606</td>\n",
       "      <td>23</td>\n",
       "      <td>6</td>\n",
       "    </tr>\n",
       "    <tr>\n",
       "      <th>1</th>\n",
       "      <td>County</td>\n",
       "      <td>2021-06-06</td>\n",
       "      <td>5.0</td>\n",
       "      <td>AR</td>\n",
       "      <td>5011.0</td>\n",
       "      <td>Bradley County</td>\n",
       "      <td>1780</td>\n",
       "      <td>8983</td>\n",
       "      <td>25022</td>\n",
       "      <td>3411</td>\n",
       "      <td>...</td>\n",
       "      <td>4321</td>\n",
       "      <td>3343</td>\n",
       "      <td>1793</td>\n",
       "      <td>1383</td>\n",
       "      <td>690</td>\n",
       "      <td>35</td>\n",
       "      <td>0</td>\n",
       "      <td>05-05011-20210606</td>\n",
       "      <td>23</td>\n",
       "      <td>6</td>\n",
       "    </tr>\n",
       "    <tr>\n",
       "      <th>2</th>\n",
       "      <td>County</td>\n",
       "      <td>2021-06-06</td>\n",
       "      <td>5.0</td>\n",
       "      <td>AR</td>\n",
       "      <td>5013.0</td>\n",
       "      <td>Calhoun County</td>\n",
       "      <td>571</td>\n",
       "      <td>4618</td>\n",
       "      <td>17543</td>\n",
       "      <td>2166</td>\n",
       "      <td>...</td>\n",
       "      <td>3600</td>\n",
       "      <td>4277</td>\n",
       "      <td>1141</td>\n",
       "      <td>530</td>\n",
       "      <td>425</td>\n",
       "      <td>41</td>\n",
       "      <td>0</td>\n",
       "      <td>05-05013-20210606</td>\n",
       "      <td>23</td>\n",
       "      <td>6</td>\n",
       "    </tr>\n",
       "    <tr>\n",
       "      <th>3</th>\n",
       "      <td>County</td>\n",
       "      <td>2021-06-06</td>\n",
       "      <td>5.0</td>\n",
       "      <td>AR</td>\n",
       "      <td>5015.0</td>\n",
       "      <td>Carroll County</td>\n",
       "      <td>4386</td>\n",
       "      <td>23994</td>\n",
       "      <td>77047</td>\n",
       "      <td>14712</td>\n",
       "      <td>...</td>\n",
       "      <td>13170</td>\n",
       "      <td>14712</td>\n",
       "      <td>4272</td>\n",
       "      <td>1227</td>\n",
       "      <td>1323</td>\n",
       "      <td>132</td>\n",
       "      <td>36</td>\n",
       "      <td>05-05015-20210606</td>\n",
       "      <td>23</td>\n",
       "      <td>6</td>\n",
       "    </tr>\n",
       "    <tr>\n",
       "      <th>4</th>\n",
       "      <td>County</td>\n",
       "      <td>2021-06-06</td>\n",
       "      <td>5.0</td>\n",
       "      <td>AR</td>\n",
       "      <td>5017.0</td>\n",
       "      <td>Chicot County</td>\n",
       "      <td>1356</td>\n",
       "      <td>8762</td>\n",
       "      <td>31550</td>\n",
       "      <td>9483</td>\n",
       "      <td>...</td>\n",
       "      <td>3929</td>\n",
       "      <td>3857</td>\n",
       "      <td>1380</td>\n",
       "      <td>580</td>\n",
       "      <td>957</td>\n",
       "      <td>61</td>\n",
       "      <td>4</td>\n",
       "      <td>05-05017-20210606</td>\n",
       "      <td>23</td>\n",
       "      <td>6</td>\n",
       "    </tr>\n",
       "  </tbody>\n",
       "</table>\n",
       "<p>5 rows × 22 columns</p>\n",
       "</div>"
      ],
      "text/plain": [
       "    Level        Date  State FIPS State Postal Code  County FIPS  \\\n",
       "0  County  2021-06-06        56.0                WY      56045.0   \n",
       "1  County  2021-06-06         5.0                AR       5011.0   \n",
       "2  County  2021-06-06         5.0                AR       5013.0   \n",
       "3  County  2021-06-06         5.0                AR       5015.0   \n",
       "4  County  2021-06-06         5.0                AR       5017.0   \n",
       "\n",
       "      County Name  Population Staying at Home  Population Not Staying at Home  \\\n",
       "0   Weston County                        1268                            5659   \n",
       "1  Bradley County                        1780                            8983   \n",
       "2  Calhoun County                         571                            4618   \n",
       "3  Carroll County                        4386                           23994   \n",
       "4   Chicot County                        1356                            8762   \n",
       "\n",
       "   Number of Trips  Number of Trips <1  ...  Number of Trips 5-10  \\\n",
       "0            22471                4160  ...                  1558   \n",
       "1            25022                3411  ...                  4321   \n",
       "2            17543                2166  ...                  3600   \n",
       "3            77047               14712  ...                 13170   \n",
       "4            31550                9483  ...                  3929   \n",
       "\n",
       "   Number of Trips 10-25  Number of Trips 25-50  Number of Trips 50-100  \\\n",
       "0                   5723                   2202                    3930   \n",
       "1                   3343                   1793                    1383   \n",
       "2                   4277                   1141                     530   \n",
       "3                  14712                   4272                    1227   \n",
       "4                   3857                   1380                     580   \n",
       "\n",
       "   Number of Trips 100-250  Number of Trips 250-500  Number of Trips >=500  \\\n",
       "0                     1160                      166                     23   \n",
       "1                      690                       35                      0   \n",
       "2                      425                       41                      0   \n",
       "3                     1323                      132                     36   \n",
       "4                      957                       61                      4   \n",
       "\n",
       "              Row ID  Week Month  \n",
       "0  56-56045-20210606    23     6  \n",
       "1  05-05011-20210606    23     6  \n",
       "2  05-05013-20210606    23     6  \n",
       "3  05-05015-20210606    23     6  \n",
       "4  05-05017-20210606    23     6  \n",
       "\n",
       "[5 rows x 22 columns]"
      ]
     },
     "execution_count": 5,
     "metadata": {},
     "output_type": "execute_result"
    }
   ],
   "source": [
    "df.head()"
   ]
  },
  {
   "cell_type": "code",
   "execution_count": 5,
   "metadata": {},
   "outputs": [],
   "source": [
    "def run_dask_task(n_workers):\n",
    "    # Scale the existing cluster\n",
    "    cluster.scale(n_workers)\n",
    "    print(f\"Scaling cluster to {n_workers} workers...\")\n",
    "\n",
    "    # Start timing\n",
    "    start_time = time.time()\n",
    "\n",
    "    # Perform computation (e.g., finding the mean of a column)\n",
    "    total_trips = df[\"Number of Trips\"].mean().compute()\n",
    "\n",
    "    # End timing\n",
    "    end_time = time.time()\n",
    "\n",
    "    # Shutdown client to free memory\n",
    "    client.close()\n",
    "\n",
    "    # Return results\n",
    "    return f\"total_trips: {total_trips}, \\n Total run time: {end_time - start_time}\"\n"
   ]
  },
  {
   "cell_type": "code",
   "execution_count": 6,
   "metadata": {},
   "outputs": [
    {
     "name": "stdout",
     "output_type": "stream",
     "text": [
      "Scaling cluster to 10 workers...\n",
      "10 Workers: total_trips: 435939.20349261153, \n",
      " Total run time: 86.99995803833008\n"
     ]
    }
   ],
   "source": [
    "# Run for 10 workers sequentially\n",
    "results10 = run_dask_task(10)\n",
    "\n",
    "# Print results\n",
    "print(f\"10 Workers: {results10}\")"
   ]
  },
  {
   "cell_type": "code",
   "execution_count": null,
   "metadata": {},
   "outputs": [
    {
     "name": "stdout",
     "output_type": "stream",
     "text": [
      "Scaling cluster to 20 workers...\n"
     ]
    }
   ],
   "source": [
    "# Run for 20 workers sequentially\n",
    "results20 = run_dask_task(20)\n",
    "\n",
    "# Print results\n",
    "print(f\"20 Workers: {results20}\")"
   ]
  }
 ],
 "metadata": {
  "kernelspec": {
   "display_name": "Python 3",
   "language": "python",
   "name": "python3"
  },
  "language_info": {
   "codemirror_mode": {
    "name": "ipython",
    "version": 3
   },
   "file_extension": ".py",
   "mimetype": "text/x-python",
   "name": "python",
   "nbconvert_exporter": "python",
   "pygments_lexer": "ipython3",
   "version": "3.12.9"
  }
 },
 "nbformat": 4,
 "nbformat_minor": 2
}
