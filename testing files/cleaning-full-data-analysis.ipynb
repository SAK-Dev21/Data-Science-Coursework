{
 "cells": [
  {
   "cell_type": "markdown",
   "metadata": {},
   "source": [
    "# 0: Setting up files"
   ]
  },
  {
   "cell_type": "code",
   "execution_count": 11,
   "metadata": {},
   "outputs": [],
   "source": [
    "import pandas as pd"
   ]
  },
  {
   "cell_type": "code",
   "execution_count": 12,
   "metadata": {},
   "outputs": [],
   "source": [
    "tripsFullDataDF = pd.read_csv('../datasets/Trips_Full Data (2).csv')"
   ]
  },
  {
   "cell_type": "markdown",
   "metadata": {},
   "source": [
    "# 1: Examining the dataset"
   ]
  },
  {
   "cell_type": "code",
   "execution_count": 13,
   "metadata": {},
   "outputs": [
    {
     "data": {
      "text/html": [
       "<div>\n",
       "<style scoped>\n",
       "    .dataframe tbody tr th:only-of-type {\n",
       "        vertical-align: middle;\n",
       "    }\n",
       "\n",
       "    .dataframe tbody tr th {\n",
       "        vertical-align: top;\n",
       "    }\n",
       "\n",
       "    .dataframe thead th {\n",
       "        text-align: right;\n",
       "    }\n",
       "</style>\n",
       "<table border=\"1\" class=\"dataframe\">\n",
       "  <thead>\n",
       "    <tr style=\"text-align: right;\">\n",
       "      <th></th>\n",
       "      <th>Month of Date</th>\n",
       "      <th>Week of Date</th>\n",
       "      <th>Year of Date</th>\n",
       "      <th>Level</th>\n",
       "      <th>Date</th>\n",
       "      <th>Week Ending Date</th>\n",
       "      <th>Trips &lt;1 Mile</th>\n",
       "      <th>People Not Staying at Home</th>\n",
       "      <th>Population Staying at Home</th>\n",
       "      <th>Trips</th>\n",
       "      <th>...</th>\n",
       "      <th>Trips 10-25 Miles</th>\n",
       "      <th>Trips 100-250 Miles</th>\n",
       "      <th>Trips 100+ Miles</th>\n",
       "      <th>Trips 25-100 Miles</th>\n",
       "      <th>Trips 25-50 Miles</th>\n",
       "      <th>Trips 250-500 Miles</th>\n",
       "      <th>Trips 3-5 Miles</th>\n",
       "      <th>Trips 5-10 Miles</th>\n",
       "      <th>Trips 50-100 Miles</th>\n",
       "      <th>Trips 500+ Miles</th>\n",
       "    </tr>\n",
       "  </thead>\n",
       "  <tbody>\n",
       "    <tr>\n",
       "      <th>0</th>\n",
       "      <td>August</td>\n",
       "      <td>Week 32</td>\n",
       "      <td>2019</td>\n",
       "      <td>National</td>\n",
       "      <td>8/4/2019 0:00</td>\n",
       "      <td>10-Aug-19</td>\n",
       "      <td>292959749</td>\n",
       "      <td>258404133</td>\n",
       "      <td>67763287</td>\n",
       "      <td>1322685497</td>\n",
       "      <td>...</td>\n",
       "      <td>200922270</td>\n",
       "      <td>8595827</td>\n",
       "      <td>15338786</td>\n",
       "      <td>79429125</td>\n",
       "      <td>59517188</td>\n",
       "      <td>2273613</td>\n",
       "      <td>171336406</td>\n",
       "      <td>216121882</td>\n",
       "      <td>19911937</td>\n",
       "      <td>4469346</td>\n",
       "    </tr>\n",
       "    <tr>\n",
       "      <th>1</th>\n",
       "      <td>August</td>\n",
       "      <td>Week 32</td>\n",
       "      <td>2019</td>\n",
       "      <td>National</td>\n",
       "      <td>8/5/2019 0:00</td>\n",
       "      <td>10-Aug-19</td>\n",
       "      <td>317133861</td>\n",
       "      <td>262199758</td>\n",
       "      <td>63967662</td>\n",
       "      <td>1412564488</td>\n",
       "      <td>...</td>\n",
       "      <td>228809869</td>\n",
       "      <td>6535920</td>\n",
       "      <td>12563068</td>\n",
       "      <td>86004297</td>\n",
       "      <td>68184743</td>\n",
       "      <td>1941260</td>\n",
       "      <td>178996059</td>\n",
       "      <td>231048425</td>\n",
       "      <td>17819554</td>\n",
       "      <td>4085888</td>\n",
       "    </tr>\n",
       "    <tr>\n",
       "      <th>2</th>\n",
       "      <td>August</td>\n",
       "      <td>Week 32</td>\n",
       "      <td>2019</td>\n",
       "      <td>National</td>\n",
       "      <td>8/6/2019 0:00</td>\n",
       "      <td>10-Aug-19</td>\n",
       "      <td>324443205</td>\n",
       "      <td>260096133</td>\n",
       "      <td>66071287</td>\n",
       "      <td>1437762102</td>\n",
       "      <td>...</td>\n",
       "      <td>235621127</td>\n",
       "      <td>5993704</td>\n",
       "      <td>11104823</td>\n",
       "      <td>87599579</td>\n",
       "      <td>70149166</td>\n",
       "      <td>1741994</td>\n",
       "      <td>179210645</td>\n",
       "      <td>233248732</td>\n",
       "      <td>17450413</td>\n",
       "      <td>3369125</td>\n",
       "    </tr>\n",
       "    <tr>\n",
       "      <th>3</th>\n",
       "      <td>August</td>\n",
       "      <td>Week 32</td>\n",
       "      <td>2019</td>\n",
       "      <td>National</td>\n",
       "      <td>8/7/2019 0:00</td>\n",
       "      <td>10-Aug-19</td>\n",
       "      <td>358483024</td>\n",
       "      <td>258878802</td>\n",
       "      <td>67288618</td>\n",
       "      <td>1543710309</td>\n",
       "      <td>...</td>\n",
       "      <td>249988663</td>\n",
       "      <td>5379881</td>\n",
       "      <td>8528574</td>\n",
       "      <td>92200386</td>\n",
       "      <td>74381367</td>\n",
       "      <td>1272248</td>\n",
       "      <td>189163336</td>\n",
       "      <td>243872277</td>\n",
       "      <td>17819019</td>\n",
       "      <td>1876445</td>\n",
       "    </tr>\n",
       "    <tr>\n",
       "      <th>4</th>\n",
       "      <td>August</td>\n",
       "      <td>Week 32</td>\n",
       "      <td>2019</td>\n",
       "      <td>National</td>\n",
       "      <td>8/8/2019 0:00</td>\n",
       "      <td>10-Aug-19</td>\n",
       "      <td>300765870</td>\n",
       "      <td>262410045</td>\n",
       "      <td>63757375</td>\n",
       "      <td>1382044815</td>\n",
       "      <td>...</td>\n",
       "      <td>226055368</td>\n",
       "      <td>6259735</td>\n",
       "      <td>12892348</td>\n",
       "      <td>84193587</td>\n",
       "      <td>66724543</td>\n",
       "      <td>1957888</td>\n",
       "      <td>179346163</td>\n",
       "      <td>230933709</td>\n",
       "      <td>17469044</td>\n",
       "      <td>4674725</td>\n",
       "    </tr>\n",
       "    <tr>\n",
       "      <th>5</th>\n",
       "      <td>August</td>\n",
       "      <td>Week 32</td>\n",
       "      <td>2019</td>\n",
       "      <td>National</td>\n",
       "      <td>8/9/2019 0:00</td>\n",
       "      <td>10-Aug-19</td>\n",
       "      <td>341515854</td>\n",
       "      <td>272101417</td>\n",
       "      <td>54066003</td>\n",
       "      <td>1501571863</td>\n",
       "      <td>...</td>\n",
       "      <td>245571995</td>\n",
       "      <td>7635743</td>\n",
       "      <td>12256537</td>\n",
       "      <td>95005653</td>\n",
       "      <td>74512584</td>\n",
       "      <td>1823661</td>\n",
       "      <td>186257669</td>\n",
       "      <td>242027669</td>\n",
       "      <td>20493069</td>\n",
       "      <td>2797133</td>\n",
       "    </tr>\n",
       "    <tr>\n",
       "      <th>6</th>\n",
       "      <td>August</td>\n",
       "      <td>Week 32</td>\n",
       "      <td>2019</td>\n",
       "      <td>National</td>\n",
       "      <td>8/10/2019 0:00</td>\n",
       "      <td>10-Aug-19</td>\n",
       "      <td>346532975</td>\n",
       "      <td>267638064</td>\n",
       "      <td>58529356</td>\n",
       "      <td>1491503216</td>\n",
       "      <td>...</td>\n",
       "      <td>230580285</td>\n",
       "      <td>7550100</td>\n",
       "      <td>12173176</td>\n",
       "      <td>91829556</td>\n",
       "      <td>70644329</td>\n",
       "      <td>1794030</td>\n",
       "      <td>186580557</td>\n",
       "      <td>236858554</td>\n",
       "      <td>21185227</td>\n",
       "      <td>2829046</td>\n",
       "    </tr>\n",
       "  </tbody>\n",
       "</table>\n",
       "<p>7 rows × 22 columns</p>\n",
       "</div>"
      ],
      "text/plain": [
       "  Month of Date Week of Date  Year of Date     Level            Date  \\\n",
       "0        August      Week 32          2019  National   8/4/2019 0:00   \n",
       "1        August      Week 32          2019  National   8/5/2019 0:00   \n",
       "2        August      Week 32          2019  National   8/6/2019 0:00   \n",
       "3        August      Week 32          2019  National   8/7/2019 0:00   \n",
       "4        August      Week 32          2019  National   8/8/2019 0:00   \n",
       "5        August      Week 32          2019  National   8/9/2019 0:00   \n",
       "6        August      Week 32          2019  National  8/10/2019 0:00   \n",
       "\n",
       "  Week Ending Date  Trips <1 Mile  People Not Staying at Home  \\\n",
       "0        10-Aug-19      292959749                   258404133   \n",
       "1        10-Aug-19      317133861                   262199758   \n",
       "2        10-Aug-19      324443205                   260096133   \n",
       "3        10-Aug-19      358483024                   258878802   \n",
       "4        10-Aug-19      300765870                   262410045   \n",
       "5        10-Aug-19      341515854                   272101417   \n",
       "6        10-Aug-19      346532975                   267638064   \n",
       "\n",
       "   Population Staying at Home       Trips  ...  Trips 10-25 Miles  \\\n",
       "0                    67763287  1322685497  ...          200922270   \n",
       "1                    63967662  1412564488  ...          228809869   \n",
       "2                    66071287  1437762102  ...          235621127   \n",
       "3                    67288618  1543710309  ...          249988663   \n",
       "4                    63757375  1382044815  ...          226055368   \n",
       "5                    54066003  1501571863  ...          245571995   \n",
       "6                    58529356  1491503216  ...          230580285   \n",
       "\n",
       "   Trips 100-250 Miles  Trips 100+ Miles  Trips 25-100 Miles  \\\n",
       "0              8595827          15338786            79429125   \n",
       "1              6535920          12563068            86004297   \n",
       "2              5993704          11104823            87599579   \n",
       "3              5379881           8528574            92200386   \n",
       "4              6259735          12892348            84193587   \n",
       "5              7635743          12256537            95005653   \n",
       "6              7550100          12173176            91829556   \n",
       "\n",
       "   Trips 25-50 Miles  Trips 250-500 Miles  Trips 3-5 Miles  Trips 5-10 Miles  \\\n",
       "0           59517188              2273613        171336406         216121882   \n",
       "1           68184743              1941260        178996059         231048425   \n",
       "2           70149166              1741994        179210645         233248732   \n",
       "3           74381367              1272248        189163336         243872277   \n",
       "4           66724543              1957888        179346163         230933709   \n",
       "5           74512584              1823661        186257669         242027669   \n",
       "6           70644329              1794030        186580557         236858554   \n",
       "\n",
       "   Trips 50-100 Miles  Trips 500+ Miles  \n",
       "0            19911937           4469346  \n",
       "1            17819554           4085888  \n",
       "2            17450413           3369125  \n",
       "3            17819019           1876445  \n",
       "4            17469044           4674725  \n",
       "5            20493069           2797133  \n",
       "6            21185227           2829046  \n",
       "\n",
       "[7 rows x 22 columns]"
      ]
     },
     "execution_count": 13,
     "metadata": {},
     "output_type": "execute_result"
    }
   ],
   "source": [
    "tripsFullDataDF"
   ]
  },
  {
   "cell_type": "markdown",
   "metadata": {},
   "source": [
    "## Checking dataset information"
   ]
  },
  {
   "cell_type": "code",
   "execution_count": 14,
   "metadata": {},
   "outputs": [
    {
     "name": "stdout",
     "output_type": "stream",
     "text": [
      "<class 'pandas.core.frame.DataFrame'>\n",
      "RangeIndex: 7 entries, 0 to 6\n",
      "Data columns (total 22 columns):\n",
      " #   Column                      Non-Null Count  Dtype \n",
      "---  ------                      --------------  ----- \n",
      " 0   Month of Date               7 non-null      object\n",
      " 1   Week of Date                7 non-null      object\n",
      " 2   Year of Date                7 non-null      int64 \n",
      " 3   Level                       7 non-null      object\n",
      " 4   Date                        7 non-null      object\n",
      " 5   Week Ending Date            7 non-null      object\n",
      " 6   Trips <1 Mile               7 non-null      int64 \n",
      " 7   People Not Staying at Home  7 non-null      int64 \n",
      " 8   Population Staying at Home  7 non-null      int64 \n",
      " 9   Trips                       7 non-null      int64 \n",
      " 10  Trips 1-25 Miles            7 non-null      int64 \n",
      " 11  Trips 1-3 Miles             7 non-null      int64 \n",
      " 12  Trips 10-25 Miles           7 non-null      int64 \n",
      " 13  Trips 100-250 Miles         7 non-null      int64 \n",
      " 14  Trips 100+ Miles            7 non-null      int64 \n",
      " 15  Trips 25-100 Miles          7 non-null      int64 \n",
      " 16  Trips 25-50 Miles           7 non-null      int64 \n",
      " 17  Trips 250-500 Miles         7 non-null      int64 \n",
      " 18  Trips 3-5 Miles             7 non-null      int64 \n",
      " 19  Trips 5-10 Miles            7 non-null      int64 \n",
      " 20  Trips 50-100 Miles          7 non-null      int64 \n",
      " 21  Trips 500+ Miles            7 non-null      int64 \n",
      "dtypes: int64(17), object(5)\n",
      "memory usage: 1.3+ KB\n"
     ]
    }
   ],
   "source": [
    "tripsFullDataDF.info()"
   ]
  },
  {
   "cell_type": "markdown",
   "metadata": {},
   "source": [
    "## Checking how many null values there are under each column"
   ]
  },
  {
   "cell_type": "code",
   "execution_count": 15,
   "metadata": {},
   "outputs": [
    {
     "data": {
      "text/plain": [
       "Month of Date                 0\n",
       "Week of Date                  0\n",
       "Year of Date                  0\n",
       "Level                         0\n",
       "Date                          0\n",
       "Week Ending Date              0\n",
       "Trips <1 Mile                 0\n",
       "People Not Staying at Home    0\n",
       "Population Staying at Home    0\n",
       "Trips                         0\n",
       "Trips 1-25 Miles              0\n",
       "Trips 1-3 Miles               0\n",
       "Trips 10-25 Miles             0\n",
       "Trips 100-250 Miles           0\n",
       "Trips 100+ Miles              0\n",
       "Trips 25-100 Miles            0\n",
       "Trips 25-50 Miles             0\n",
       "Trips 250-500 Miles           0\n",
       "Trips 3-5 Miles               0\n",
       "Trips 5-10 Miles              0\n",
       "Trips 50-100 Miles            0\n",
       "Trips 500+ Miles              0\n",
       "dtype: int64"
      ]
     },
     "execution_count": 15,
     "metadata": {},
     "output_type": "execute_result"
    }
   ],
   "source": [
    "tripsFullDataDF.isnull().sum()"
   ]
  },
  {
   "cell_type": "markdown",
   "metadata": {},
   "source": [
    "## Checking how many duplicate rows there are"
   ]
  },
  {
   "cell_type": "code",
   "execution_count": 16,
   "metadata": {},
   "outputs": [
    {
     "data": {
      "text/plain": [
       "np.int64(0)"
      ]
     },
     "execution_count": 16,
     "metadata": {},
     "output_type": "execute_result"
    }
   ],
   "source": [
    "tripsFullDataDF.duplicated().sum()"
   ]
  },
  {
   "cell_type": "markdown",
   "metadata": {},
   "source": [
    "# Handling missing values & Correcting values and columns\n",
    "\n",
    "* There are no duplicates nor missing values.\n",
    "* All there is to do is to correct the 'date' column. It is of object data type instead of datetime."
   ]
  },
  {
   "cell_type": "code",
   "execution_count": 17,
   "metadata": {},
   "outputs": [],
   "source": [
    "tripsFullDataDF['Date'] = pd.to_datetime(tripsFullDataDF['Date'], errors = 'coerce')"
   ]
  },
  {
   "cell_type": "markdown",
   "metadata": {},
   "source": [
    "## Converting values to standard notation instead of scientific notation\n",
    "\n",
    "- I done this with ```.applymap()``` instead of ```.map()```. Map is the updated version. Can't run this code again."
   ]
  },
  {
   "cell_type": "code",
   "execution_count": 18,
   "metadata": {},
   "outputs": [],
   "source": [
    "columnstoFix = list(tripsFullDataDF.loc[:, 'Trips <1 Mile':'Trips 500+ Miles'].columns)\n",
    "\n",
    "tripsFullDataDF[columnstoFix] = tripsFullDataDF[columnstoFix].map(lambda x: '{:.0f}'.format(x))"
   ]
  },
  {
   "cell_type": "markdown",
   "metadata": {},
   "source": [
    "## Saving cleaned dataset"
   ]
  },
  {
   "cell_type": "code",
   "execution_count": 19,
   "metadata": {},
   "outputs": [],
   "source": [
    "tripsFullDataDF.to_csv('../datasets/cleaned-datasets/Trips_Full_Data-cleaned.csv', index = False)"
   ]
  }
 ],
 "metadata": {
  "kernelspec": {
   "display_name": "Python 3",
   "language": "python",
   "name": "python3"
  },
  "language_info": {
   "codemirror_mode": {
    "name": "ipython",
    "version": 3
   },
   "file_extension": ".py",
   "mimetype": "text/x-python",
   "name": "python",
   "nbconvert_exporter": "python",
   "pygments_lexer": "ipython3",
   "version": "3.12.9"
  }
 },
 "nbformat": 4,
 "nbformat_minor": 2
}
