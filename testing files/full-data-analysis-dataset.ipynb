{
 "cells": [
  {
   "cell_type": "code",
   "execution_count": 17,
   "metadata": {},
   "outputs": [],
   "source": [
    "import pandas as pd\n",
    "import numpy as np\n",
    "import seaborn as sns\n",
    "import matplotlib.pyplot as plt"
   ]
  },
  {
   "cell_type": "code",
   "execution_count": 18,
   "metadata": {},
   "outputs": [],
   "source": [
    "df = pd.read_csv('../datasets/cleaned-datasets/Trips_Full_Data-cleaned.csv')\n",
    "\n",
    "pd.set_option('display.max_columns', None)"
   ]
  },
  {
   "cell_type": "code",
   "execution_count": 19,
   "metadata": {},
   "outputs": [
    {
     "name": "stdout",
     "output_type": "stream",
     "text": [
      "<class 'pandas.core.frame.DataFrame'>\n",
      "RangeIndex: 7 entries, 0 to 6\n",
      "Data columns (total 22 columns):\n",
      " #   Column                      Non-Null Count  Dtype \n",
      "---  ------                      --------------  ----- \n",
      " 0   Month of Date               7 non-null      object\n",
      " 1   Week of Date                7 non-null      object\n",
      " 2   Year of Date                7 non-null      int64 \n",
      " 3   Level                       7 non-null      object\n",
      " 4   Date                        7 non-null      object\n",
      " 5   Week Ending Date            7 non-null      object\n",
      " 6   Trips <1 Mile               7 non-null      int64 \n",
      " 7   People Not Staying at Home  7 non-null      int64 \n",
      " 8   Population Staying at Home  7 non-null      int64 \n",
      " 9   Trips                       7 non-null      int64 \n",
      " 10  Trips 1-25 Miles            7 non-null      int64 \n",
      " 11  Trips 1-3 Miles             7 non-null      int64 \n",
      " 12  Trips 10-25 Miles           7 non-null      int64 \n",
      " 13  Trips 100-250 Miles         7 non-null      int64 \n",
      " 14  Trips 100+ Miles            7 non-null      int64 \n",
      " 15  Trips 25-100 Miles          7 non-null      int64 \n",
      " 16  Trips 25-50 Miles           7 non-null      int64 \n",
      " 17  Trips 250-500 Miles         7 non-null      int64 \n",
      " 18  Trips 3-5 Miles             7 non-null      int64 \n",
      " 19  Trips 5-10 Miles            7 non-null      int64 \n",
      " 20  Trips 50-100 Miles          7 non-null      int64 \n",
      " 21  Trips 500+ Miles            7 non-null      int64 \n",
      "dtypes: int64(17), object(5)\n",
      "memory usage: 1.3+ KB\n"
     ]
    }
   ],
   "source": [
    "df.info()"
   ]
  },
  {
   "cell_type": "code",
   "execution_count": 20,
   "metadata": {},
   "outputs": [
    {
     "data": {
      "text/html": [
       "<div>\n",
       "<style scoped>\n",
       "    .dataframe tbody tr th:only-of-type {\n",
       "        vertical-align: middle;\n",
       "    }\n",
       "\n",
       "    .dataframe tbody tr th {\n",
       "        vertical-align: top;\n",
       "    }\n",
       "\n",
       "    .dataframe thead th {\n",
       "        text-align: right;\n",
       "    }\n",
       "</style>\n",
       "<table border=\"1\" class=\"dataframe\">\n",
       "  <thead>\n",
       "    <tr style=\"text-align: right;\">\n",
       "      <th></th>\n",
       "      <th>Month of Date</th>\n",
       "      <th>Week of Date</th>\n",
       "      <th>Year of Date</th>\n",
       "      <th>Level</th>\n",
       "      <th>Date</th>\n",
       "      <th>Week Ending Date</th>\n",
       "      <th>Trips &lt;1 Mile</th>\n",
       "      <th>People Not Staying at Home</th>\n",
       "      <th>Population Staying at Home</th>\n",
       "      <th>Trips</th>\n",
       "      <th>Trips 1-25 Miles</th>\n",
       "      <th>Trips 1-3 Miles</th>\n",
       "      <th>Trips 10-25 Miles</th>\n",
       "      <th>Trips 100-250 Miles</th>\n",
       "      <th>Trips 100+ Miles</th>\n",
       "      <th>Trips 25-100 Miles</th>\n",
       "      <th>Trips 25-50 Miles</th>\n",
       "      <th>Trips 250-500 Miles</th>\n",
       "      <th>Trips 3-5 Miles</th>\n",
       "      <th>Trips 5-10 Miles</th>\n",
       "      <th>Trips 50-100 Miles</th>\n",
       "      <th>Trips 500+ Miles</th>\n",
       "    </tr>\n",
       "  </thead>\n",
       "  <tbody>\n",
       "    <tr>\n",
       "      <th>0</th>\n",
       "      <td>August</td>\n",
       "      <td>Week 32</td>\n",
       "      <td>2019</td>\n",
       "      <td>National</td>\n",
       "      <td>2019-08-04</td>\n",
       "      <td>10-Aug-19</td>\n",
       "      <td>292959749</td>\n",
       "      <td>258404133</td>\n",
       "      <td>67763287</td>\n",
       "      <td>1322685497</td>\n",
       "      <td>934957837</td>\n",
       "      <td>346577279</td>\n",
       "      <td>200922270</td>\n",
       "      <td>8595827</td>\n",
       "      <td>15338786</td>\n",
       "      <td>79429125</td>\n",
       "      <td>59517188</td>\n",
       "      <td>2273613</td>\n",
       "      <td>171336406</td>\n",
       "      <td>216121882</td>\n",
       "      <td>19911937</td>\n",
       "      <td>4469346</td>\n",
       "    </tr>\n",
       "    <tr>\n",
       "      <th>1</th>\n",
       "      <td>August</td>\n",
       "      <td>Week 32</td>\n",
       "      <td>2019</td>\n",
       "      <td>National</td>\n",
       "      <td>2019-08-05</td>\n",
       "      <td>10-Aug-19</td>\n",
       "      <td>317133861</td>\n",
       "      <td>262199758</td>\n",
       "      <td>63967662</td>\n",
       "      <td>1412564488</td>\n",
       "      <td>996863262</td>\n",
       "      <td>358008909</td>\n",
       "      <td>228809869</td>\n",
       "      <td>6535920</td>\n",
       "      <td>12563068</td>\n",
       "      <td>86004297</td>\n",
       "      <td>68184743</td>\n",
       "      <td>1941260</td>\n",
       "      <td>178996059</td>\n",
       "      <td>231048425</td>\n",
       "      <td>17819554</td>\n",
       "      <td>4085888</td>\n",
       "    </tr>\n",
       "    <tr>\n",
       "      <th>2</th>\n",
       "      <td>August</td>\n",
       "      <td>Week 32</td>\n",
       "      <td>2019</td>\n",
       "      <td>National</td>\n",
       "      <td>2019-08-06</td>\n",
       "      <td>10-Aug-19</td>\n",
       "      <td>324443205</td>\n",
       "      <td>260096133</td>\n",
       "      <td>66071287</td>\n",
       "      <td>1437762102</td>\n",
       "      <td>1014614495</td>\n",
       "      <td>366533991</td>\n",
       "      <td>235621127</td>\n",
       "      <td>5993704</td>\n",
       "      <td>11104823</td>\n",
       "      <td>87599579</td>\n",
       "      <td>70149166</td>\n",
       "      <td>1741994</td>\n",
       "      <td>179210645</td>\n",
       "      <td>233248732</td>\n",
       "      <td>17450413</td>\n",
       "      <td>3369125</td>\n",
       "    </tr>\n",
       "    <tr>\n",
       "      <th>3</th>\n",
       "      <td>August</td>\n",
       "      <td>Week 32</td>\n",
       "      <td>2019</td>\n",
       "      <td>National</td>\n",
       "      <td>2019-08-07</td>\n",
       "      <td>10-Aug-19</td>\n",
       "      <td>358483024</td>\n",
       "      <td>258878802</td>\n",
       "      <td>67288618</td>\n",
       "      <td>1543710309</td>\n",
       "      <td>1084498325</td>\n",
       "      <td>401474049</td>\n",
       "      <td>249988663</td>\n",
       "      <td>5379881</td>\n",
       "      <td>8528574</td>\n",
       "      <td>92200386</td>\n",
       "      <td>74381367</td>\n",
       "      <td>1272248</td>\n",
       "      <td>189163336</td>\n",
       "      <td>243872277</td>\n",
       "      <td>17819019</td>\n",
       "      <td>1876445</td>\n",
       "    </tr>\n",
       "    <tr>\n",
       "      <th>4</th>\n",
       "      <td>August</td>\n",
       "      <td>Week 32</td>\n",
       "      <td>2019</td>\n",
       "      <td>National</td>\n",
       "      <td>2019-08-08</td>\n",
       "      <td>10-Aug-19</td>\n",
       "      <td>300765870</td>\n",
       "      <td>262410045</td>\n",
       "      <td>63757375</td>\n",
       "      <td>1382044815</td>\n",
       "      <td>984193010</td>\n",
       "      <td>347857770</td>\n",
       "      <td>226055368</td>\n",
       "      <td>6259735</td>\n",
       "      <td>12892348</td>\n",
       "      <td>84193587</td>\n",
       "      <td>66724543</td>\n",
       "      <td>1957888</td>\n",
       "      <td>179346163</td>\n",
       "      <td>230933709</td>\n",
       "      <td>17469044</td>\n",
       "      <td>4674725</td>\n",
       "    </tr>\n",
       "    <tr>\n",
       "      <th>5</th>\n",
       "      <td>August</td>\n",
       "      <td>Week 32</td>\n",
       "      <td>2019</td>\n",
       "      <td>National</td>\n",
       "      <td>2019-08-09</td>\n",
       "      <td>10-Aug-19</td>\n",
       "      <td>341515854</td>\n",
       "      <td>272101417</td>\n",
       "      <td>54066003</td>\n",
       "      <td>1501571863</td>\n",
       "      <td>1052793819</td>\n",
       "      <td>378936486</td>\n",
       "      <td>245571995</td>\n",
       "      <td>7635743</td>\n",
       "      <td>12256537</td>\n",
       "      <td>95005653</td>\n",
       "      <td>74512584</td>\n",
       "      <td>1823661</td>\n",
       "      <td>186257669</td>\n",
       "      <td>242027669</td>\n",
       "      <td>20493069</td>\n",
       "      <td>2797133</td>\n",
       "    </tr>\n",
       "    <tr>\n",
       "      <th>6</th>\n",
       "      <td>August</td>\n",
       "      <td>Week 32</td>\n",
       "      <td>2019</td>\n",
       "      <td>National</td>\n",
       "      <td>2019-08-10</td>\n",
       "      <td>10-Aug-19</td>\n",
       "      <td>346532975</td>\n",
       "      <td>267638064</td>\n",
       "      <td>58529356</td>\n",
       "      <td>1491503216</td>\n",
       "      <td>1040967509</td>\n",
       "      <td>386948113</td>\n",
       "      <td>230580285</td>\n",
       "      <td>7550100</td>\n",
       "      <td>12173176</td>\n",
       "      <td>91829556</td>\n",
       "      <td>70644329</td>\n",
       "      <td>1794030</td>\n",
       "      <td>186580557</td>\n",
       "      <td>236858554</td>\n",
       "      <td>21185227</td>\n",
       "      <td>2829046</td>\n",
       "    </tr>\n",
       "  </tbody>\n",
       "</table>\n",
       "</div>"
      ],
      "text/plain": [
       "  Month of Date Week of Date  Year of Date     Level        Date  \\\n",
       "0        August      Week 32          2019  National  2019-08-04   \n",
       "1        August      Week 32          2019  National  2019-08-05   \n",
       "2        August      Week 32          2019  National  2019-08-06   \n",
       "3        August      Week 32          2019  National  2019-08-07   \n",
       "4        August      Week 32          2019  National  2019-08-08   \n",
       "5        August      Week 32          2019  National  2019-08-09   \n",
       "6        August      Week 32          2019  National  2019-08-10   \n",
       "\n",
       "  Week Ending Date  Trips <1 Mile  People Not Staying at Home  \\\n",
       "0        10-Aug-19      292959749                   258404133   \n",
       "1        10-Aug-19      317133861                   262199758   \n",
       "2        10-Aug-19      324443205                   260096133   \n",
       "3        10-Aug-19      358483024                   258878802   \n",
       "4        10-Aug-19      300765870                   262410045   \n",
       "5        10-Aug-19      341515854                   272101417   \n",
       "6        10-Aug-19      346532975                   267638064   \n",
       "\n",
       "   Population Staying at Home       Trips  Trips 1-25 Miles  Trips 1-3 Miles  \\\n",
       "0                    67763287  1322685497         934957837        346577279   \n",
       "1                    63967662  1412564488         996863262        358008909   \n",
       "2                    66071287  1437762102        1014614495        366533991   \n",
       "3                    67288618  1543710309        1084498325        401474049   \n",
       "4                    63757375  1382044815         984193010        347857770   \n",
       "5                    54066003  1501571863        1052793819        378936486   \n",
       "6                    58529356  1491503216        1040967509        386948113   \n",
       "\n",
       "   Trips 10-25 Miles  Trips 100-250 Miles  Trips 100+ Miles  \\\n",
       "0          200922270              8595827          15338786   \n",
       "1          228809869              6535920          12563068   \n",
       "2          235621127              5993704          11104823   \n",
       "3          249988663              5379881           8528574   \n",
       "4          226055368              6259735          12892348   \n",
       "5          245571995              7635743          12256537   \n",
       "6          230580285              7550100          12173176   \n",
       "\n",
       "   Trips 25-100 Miles  Trips 25-50 Miles  Trips 250-500 Miles  \\\n",
       "0            79429125           59517188              2273613   \n",
       "1            86004297           68184743              1941260   \n",
       "2            87599579           70149166              1741994   \n",
       "3            92200386           74381367              1272248   \n",
       "4            84193587           66724543              1957888   \n",
       "5            95005653           74512584              1823661   \n",
       "6            91829556           70644329              1794030   \n",
       "\n",
       "   Trips 3-5 Miles  Trips 5-10 Miles  Trips 50-100 Miles  Trips 500+ Miles  \n",
       "0        171336406         216121882            19911937           4469346  \n",
       "1        178996059         231048425            17819554           4085888  \n",
       "2        179210645         233248732            17450413           3369125  \n",
       "3        189163336         243872277            17819019           1876445  \n",
       "4        179346163         230933709            17469044           4674725  \n",
       "5        186257669         242027669            20493069           2797133  \n",
       "6        186580557         236858554            21185227           2829046  "
      ]
     },
     "execution_count": 20,
     "metadata": {},
     "output_type": "execute_result"
    }
   ],
   "source": [
    "df"
   ]
  },
  {
   "cell_type": "markdown",
   "metadata": {},
   "source": [
    "# Finding the average travel distance, for those traveling, per week"
   ]
  },
  {
   "cell_type": "code",
   "execution_count": 21,
   "metadata": {},
   "outputs": [],
   "source": [
    "df_travelers = df[df[\"People Not Staying at Home\"] > 0]\n",
    "\n",
    "# Select only trip distance columns\n",
    "trip_columns = [\"Trips <1 Mile\", \"Trips 1-3 Miles\", \"Trips 3-5 Miles\", \"Trips 5-10 Miles\",\n",
    "                \"Trips 10-25 Miles\", \"Trips 25-50 Miles\", \"Trips 50-100 Miles\",\n",
    "                \"Trips 100-250 Miles\", \"Trips 250-500 Miles\", \"Trips 500+ Miles\"]\n",
    "\n",
    "# Map 7 midpoints to the correct trip categories\n",
    "distance_midpoints = {\n",
    "    \"Trips <1 Mile\": 1, \"Trips 3-5 Miles\": 4, \"Trips 5-10 Miles\": 10,\n",
    "    \"Trips 10-25 Miles\": 25, \"Trips 25-50 Miles\": 50, \"Trips 50-100 Miles\": 100,\n",
    "    \"Trips 100+ Miles\": 300\n",
    "}\n",
    "\n",
    "# Add this as a new column to the DataFrame\n",
    "df_travelers[\"trip_midpoint\"] = distance_midpoints\n",
    "\n",
    "for col in trip_columns:\n",
    "    df_travelers[col] = pd.to_numeric(df_travelers[col], errors=\"coerce\")\n",
    "\n",
    "df_travelers[\"total_distance\"] = df_travelers.apply(\n",
    "    lambda row: sum(row[col] * distance_midpoints[col] for col in distance_midpoints.keys()), axis=1\n",
    ")\n",
    "\n"
   ]
  },
  {
   "cell_type": "code",
   "execution_count": 22,
   "metadata": {},
   "outputs": [
    {
     "data": {
      "text/html": [
       "<div>\n",
       "<style scoped>\n",
       "    .dataframe tbody tr th:only-of-type {\n",
       "        vertical-align: middle;\n",
       "    }\n",
       "\n",
       "    .dataframe tbody tr th {\n",
       "        vertical-align: top;\n",
       "    }\n",
       "\n",
       "    .dataframe thead th {\n",
       "        text-align: right;\n",
       "    }\n",
       "</style>\n",
       "<table border=\"1\" class=\"dataframe\">\n",
       "  <thead>\n",
       "    <tr style=\"text-align: right;\">\n",
       "      <th></th>\n",
       "      <th>Week of Date</th>\n",
       "      <th>total_distance</th>\n",
       "    </tr>\n",
       "  </thead>\n",
       "  <tbody>\n",
       "    <tr>\n",
       "      <th>0</th>\n",
       "      <td>Week 32</td>\n",
       "      <td>1.814614e+10</td>\n",
       "    </tr>\n",
       "  </tbody>\n",
       "</table>\n",
       "</div>"
      ],
      "text/plain": [
       "  Week of Date  total_distance\n",
       "0      Week 32    1.814614e+10"
      ]
     },
     "execution_count": 22,
     "metadata": {},
     "output_type": "execute_result"
    }
   ],
   "source": [
    "weekly_avg_distance = df_travelers.groupby(\"Week of Date\")[\"total_distance\"].mean().reset_index()\n",
    "\n",
    "weekly_avg_distance"
   ]
  },
  {
   "cell_type": "markdown",
   "metadata": {},
   "source": [
    "# Finding the weekly average amount of those staying at home"
   ]
  },
  {
   "cell_type": "code",
   "execution_count": null,
   "metadata": {},
   "outputs": [
    {
     "data": {
      "text/html": [
       "<div>\n",
       "<style scoped>\n",
       "    .dataframe tbody tr th:only-of-type {\n",
       "        vertical-align: middle;\n",
       "    }\n",
       "\n",
       "    .dataframe tbody tr th {\n",
       "        vertical-align: top;\n",
       "    }\n",
       "\n",
       "    .dataframe thead th {\n",
       "        text-align: right;\n",
       "    }\n",
       "</style>\n",
       "<table border=\"1\" class=\"dataframe\">\n",
       "  <thead>\n",
       "    <tr style=\"text-align: right;\">\n",
       "      <th></th>\n",
       "      <th>Week of Date</th>\n",
       "      <th>Population Staying at Home</th>\n",
       "    </tr>\n",
       "  </thead>\n",
       "  <tbody>\n",
       "    <tr>\n",
       "      <th>0</th>\n",
       "      <td>Week 32</td>\n",
       "      <td>6.306337e+07</td>\n",
       "    </tr>\n",
       "  </tbody>\n",
       "</table>\n",
       "</div>"
      ],
      "text/plain": [
       "  Week of Date  Population Staying at Home\n",
       "0      Week 32                6.306337e+07"
      ]
     },
     "execution_count": 23,
     "metadata": {},
     "output_type": "execute_result"
    }
   ],
   "source": [
    "weekly_avg_stay_home = df.groupby(\"Week of Date\")[\"Population Staying at Home\"].mean().reset_index()\n",
    "\n",
    "weekly_avg_stay_home"
   ]
  },
  {
   "cell_type": "markdown",
   "metadata": {},
   "source": [
    "# Identify high frequency travel days"
   ]
  },
  {
   "cell_type": "code",
   "execution_count": 24,
   "metadata": {},
   "outputs": [],
   "source": [
    "df['Total Travel Distance'] = df_travelers['total_distance']"
   ]
  },
  {
   "cell_type": "code",
   "execution_count": 25,
   "metadata": {},
   "outputs": [
    {
     "name": "stdout",
     "output_type": "stream",
     "text": [
      "<class 'pandas.core.frame.DataFrame'>\n",
      "RangeIndex: 7 entries, 0 to 6\n",
      "Data columns (total 23 columns):\n",
      " #   Column                      Non-Null Count  Dtype \n",
      "---  ------                      --------------  ----- \n",
      " 0   Month of Date               7 non-null      object\n",
      " 1   Week of Date                7 non-null      object\n",
      " 2   Year of Date                7 non-null      int64 \n",
      " 3   Level                       7 non-null      object\n",
      " 4   Date                        7 non-null      object\n",
      " 5   Week Ending Date            7 non-null      object\n",
      " 6   Trips <1 Mile               7 non-null      int64 \n",
      " 7   People Not Staying at Home  7 non-null      int64 \n",
      " 8   Population Staying at Home  7 non-null      int64 \n",
      " 9   Trips                       7 non-null      int64 \n",
      " 10  Trips 1-25 Miles            7 non-null      int64 \n",
      " 11  Trips 1-3 Miles             7 non-null      int64 \n",
      " 12  Trips 10-25 Miles           7 non-null      int64 \n",
      " 13  Trips 100-250 Miles         7 non-null      int64 \n",
      " 14  Trips 100+ Miles            7 non-null      int64 \n",
      " 15  Trips 25-100 Miles          7 non-null      int64 \n",
      " 16  Trips 25-50 Miles           7 non-null      int64 \n",
      " 17  Trips 250-500 Miles         7 non-null      int64 \n",
      " 18  Trips 3-5 Miles             7 non-null      int64 \n",
      " 19  Trips 5-10 Miles            7 non-null      int64 \n",
      " 20  Trips 50-100 Miles          7 non-null      int64 \n",
      " 21  Trips 500+ Miles            7 non-null      int64 \n",
      " 22  Total Travel Distance       7 non-null      int64 \n",
      "dtypes: int64(18), object(5)\n",
      "memory usage: 1.4+ KB\n"
     ]
    }
   ],
   "source": [
    "df.info()"
   ]
  },
  {
   "cell_type": "code",
   "execution_count": 26,
   "metadata": {},
   "outputs": [],
   "source": [
    "shortTrips = df.loc[df['Trips 10-25 Miles'] > 10000000]\n",
    "\n",
    "longTrips = df.loc[df['Trips 50-100 Miles'] > 10000000]"
   ]
  },
  {
   "cell_type": "markdown",
   "metadata": {},
   "source": [
    "## Line chart for trips over time (Data visualisation)"
   ]
  },
  {
   "cell_type": "code",
   "execution_count": 27,
   "metadata": {},
   "outputs": [
    {
     "data": {
      "text/plain": [
       "<Axes: xlabel='Date', ylabel='Trips'>"
      ]
     },
     "execution_count": 27,
     "metadata": {},
     "output_type": "execute_result"
    },
    {
     "data": {
      "image/png": "[encoded data removed]",
      "text/plain": [
       "<Figure size 1000x500 with 1 Axes>"
      ]
     },
     "metadata": {},
     "output_type": "display_data"
    }
   ],
   "source": [
    "# Set Seaborn style\n",
    "sns.set_theme(style=\"whitegrid\")\n",
    "\n",
    "# Create line plot\n",
    "plt.figure(figsize=(10, 5))\n",
    "sns.lineplot(data=df, x=\"Date\", y=\"Trips\", label=\"Total Trips\", marker=\"o\")\n",
    "\n"
   ]
  },
  {
   "cell_type": "markdown",
   "metadata": {},
   "source": [
    "## Historgrams for weekly averages (Data visualisation)"
   ]
  },
  {
   "cell_type": "code",
   "execution_count": 28,
   "metadata": {},
   "outputs": [
    {
     "data": {
      "image/png": "[encoded data removed]",
      "text/plain": [
       "<Figure size 1000x500 with 1 Axes>"
      ]
     },
     "metadata": {},
     "output_type": "display_data"
    }
   ],
   "source": [
    "# Group by week and compute averages\n",
    "weekly_avg = df.groupby(\"Week of Date\").agg({\n",
    "    \"Population Staying at Home\": \"mean\",\n",
    "    \"Total Travel Distance\": \"mean\"\n",
    "}).reset_index()\n",
    "\n",
    "# Scale the values to be in millions or billions (adjust as needed)\n",
    "weekly_avg[\"Population Staying at Home\"] = weekly_avg[\"Population Staying at Home\"] / 1e6  # Convert to millions\n",
    "weekly_avg[\"Total Travel Distance\"] = weekly_avg[\"Total Travel Distance\"] / 1e9  # Convert to billions\n",
    "\n",
    "plt.figure(figsize=(10, 5))\n",
    "\n",
    "# Histogram for average travel distance (now in billions)\n",
    "sns.histplot(weekly_avg[\"Total Travel Distance\"], bins=3, color=\"red\", label=\"Avg Travel Distance (Billions)\", kde=True)\n",
    "\n",
    "# Histogram for people staying at home (now in millions)\n",
    "sns.histplot(weekly_avg[\"Population Staying at Home\"], bins=3, color=\"blue\", label=\"Staying at Home (Millions)\", kde=True)\n",
    "\n",
    "# Formatting\n",
    "plt.xlabel(\"Average Weekly Values (Millions/Billions)\")\n",
    "plt.ylabel(\"Number of Weeks\")\n",
    "plt.title(\"Distribution of Weekly Averages: Staying at Home & Travel Distance\")\n",
    "plt.legend()\n",
    "plt.show()\n"
   ]
  }
 ],
 "metadata": {
  "kernelspec": {
   "display_name": "Python 3",
   "language": "python",
   "name": "python3"
  },
  "language_info": {
   "codemirror_mode": {
    "name": "ipython",
    "version": 3
   },
   "file_extension": ".py",
   "mimetype": "text/x-python",
   "name": "python",
   "nbconvert_exporter": "python",
   "pygments_lexer": "ipython3",
   "version": "3.12.9"
  }
 },
 "nbformat": 4,
 "nbformat_minor": 2
}
